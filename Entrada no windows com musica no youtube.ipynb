{
 "cells": [
  {
   "cell_type": "code",
   "execution_count": 4,
   "source": [
    "import pyperclip\r\n",
    "import pyautogui"
   ],
   "outputs": [],
   "metadata": {}
  },
  {
   "cell_type": "code",
   "execution_count": 5,
   "source": [
    "name_game = None\r\n",
    "option = input(\"O que vamos Fazer hj ?\\n (1 - Trabalhar) (2 - Estudar) (3 - Jogar)\")\r\n",
    "estilo = input(\"Qual o estilo de musica vamos ouvir hoje ?\")\r\n",
    "\r\n",
    "# Obter nome do jogo\r\n",
    "if option == '3':\r\n",
    "    name_game = input('Digite o nome do jogo')"
   ],
   "outputs": [],
   "metadata": {}
  },
  {
   "cell_type": "code",
   "execution_count": 6,
   "source": [
    "pyautogui.press('win')\r\n",
    "pyautogui.sleep(2)\r\n",
    "pyperclip.copy('chrome')\r\n",
    "pyautogui.hotkey('ctrl','v')\r\n",
    "pyautogui.press('enter')\r\n",
    "pyautogui.sleep(7)\r\n",
    "pyautogui.hotkey('win','up')\r\n",
    "pyautogui.hotkey('win','up')\r\n",
    "pyperclip.copy('youtube.com')\r\n",
    "pyautogui.hotkey('ctrl','v')\r\n",
    "pyautogui.press('enter')\r\n",
    "\r\n",
    "# Trabalhar\r\n",
    "if option == '1':\r\n",
    "\r\n",
    "    # Buscando playlist\r\n",
    "    pyautogui.sleep(5)\r\n",
    "    pyautogui.click(x=1929, y=59)\r\n",
    "    pyautogui.sleep(2)\r\n",
    "    pyperclip.copy('playlist para ouvir no Trabalho '+estilo)\r\n",
    "    pyautogui.hotkey('ctrl','v')\r\n",
    "    pyautogui.press('enter')\r\n",
    "    pyautogui.sleep(5)\r\n",
    "    pyautogui.click(x=1885, y=636)\r\n",
    "    \r\n",
    "    # Iniciando área de trabalho\r\n",
    "    pyautogui.press('win')\r\n",
    "    pyautogui.sleep(2)\r\n",
    "    pyperclip.copy('chrome')\r\n",
    "    pyautogui.hotkey('ctrl','v')\r\n",
    "    pyautogui.press('enter')\r\n",
    "    pyautogui.sleep(2)\r\n",
    "\r\n",
    "    pyautogui.press('win')\r\n",
    "    pyautogui.sleep(2)\r\n",
    "    pyperclip.copy('vscode')\r\n",
    "    pyautogui.hotkey('ctrl','v')\r\n",
    "    pyautogui.press('enter')\r\n",
    "    pyautogui.sleep(2)\r\n",
    "    \r\n",
    "    pyautogui.press('win')\r\n",
    "    pyautogui.sleep(2)\r\n",
    "    pyperclip.copy('telegram')\r\n",
    "    pyautogui.hotkey('ctrl','v')\r\n",
    "    pyautogui.press('enter')\r\n",
    "    pyautogui.sleep(2)\r\n",
    "\r\n",
    "    pyautogui.press('win')\r\n",
    "    pyautogui.sleep(2)\r\n",
    "    pyperclip.copy('terminal')\r\n",
    "    pyautogui.hotkey('ctrl','v')\r\n",
    "    pyautogui.press('enter')\r\n",
    "    pyautogui.sleep(2)\r\n",
    "\r\n",
    "# Estudar    \r\n",
    "elif option == '2':\r\n",
    "\r\n",
    "    # Buscando playlist\r\n",
    "    pyautogui.sleep(5)\r\n",
    "    pyautogui.click(x=1929, y=59)\r\n",
    "    pyautogui.sleep(2)\r\n",
    "    pyperclip.copy('playlist para ouvir estudando '+estilo)\r\n",
    "    pyautogui.hotkey('ctrl','v')\r\n",
    "    pyautogui.press('enter')\r\n",
    "    pyautogui.sleep(5)\r\n",
    "    pyautogui.click(x=1885, y=636)\r\n",
    "    \r\n",
    "    pyautogui.press('win')\r\n",
    "    pyautogui.sleep(2)\r\n",
    "    pyperclip.copy('chrome')\r\n",
    "    pyautogui.hotkey('ctrl','v')\r\n",
    "    pyautogui.press('enter')\r\n",
    "    pyautogui.sleep(5)\r\n",
    "    pyautogui.click(x=2274, y=440)\r\n",
    "    \r\n",
    "    pyautogui.press('win')\r\n",
    "    pyautogui.sleep(2)\r\n",
    "    pyperclip.copy('bloco de notas')\r\n",
    "    pyautogui.hotkey('ctrl','v')\r\n",
    "    pyautogui.press('enter')\r\n",
    "    \r\n",
    "\r\n",
    "# Jogar\r\n",
    "elif option == '3':\r\n",
    "    \r\n",
    "    # Buscando playlist    \r\n",
    "    pyautogui.sleep(5)\r\n",
    "    pyautogui.click(x=1929, y=59)\r\n",
    "    pyautogui.sleep(2)\r\n",
    "    pyperclip.copy('playlist para ouvir jogando '+estilo)\r\n",
    "    pyautogui.hotkey('ctrl','v')\r\n",
    "    pyautogui.press('enter')\r\n",
    "    pyautogui.sleep(5)\r\n",
    "    pyautogui.click(x=1885, y=636)\r\n",
    "    \r\n",
    "    pyautogui.press('win')\r\n",
    "    pyautogui.sleep(2)\r\n",
    "    pyperclip.copy(name_game)\r\n",
    "    pyautogui.hotkey('ctrl','v')\r\n",
    "    pyautogui.press('enter')"
   ],
   "outputs": [],
   "metadata": {}
  },
  {
   "cell_type": "code",
   "execution_count": 7,
   "source": [
    "pyautogui.sleep(5)\r\n",
    "pyautogui.position()"
   ],
   "outputs": [
    {
     "output_type": "execute_result",
     "data": {
      "text/plain": [
       "Point(x=1885, y=636)"
      ]
     },
     "metadata": {},
     "execution_count": 7
    }
   ],
   "metadata": {}
  },
  {
   "cell_type": "code",
   "execution_count": null,
   "source": [],
   "outputs": [],
   "metadata": {}
  }
 ],
 "metadata": {
  "kernelspec": {
   "name": "python3",
   "display_name": "Python 3.9.2 64-bit"
  },
  "language_info": {
   "name": "python",
   "version": "3.9.2",
   "mimetype": "text/x-python",
   "codemirror_mode": {
    "name": "ipython",
    "version": 3
   },
   "pygments_lexer": "ipython3",
   "nbconvert_exporter": "python",
   "file_extension": ".py"
  },
  "interpreter": {
   "hash": "1188463ead25c8a9681f965b2cd58965130d4e53dcb3642d26fed89c9b055d5d"
  }
 },
 "nbformat": 4,
 "nbformat_minor": 5
}